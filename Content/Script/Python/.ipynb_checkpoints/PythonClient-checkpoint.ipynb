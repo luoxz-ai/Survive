{
 "cells": [
  {
   "cell_type": "code",
   "execution_count": 4,
   "metadata": {},
   "outputs": [],
   "source": [
    "import socket\n",
    "client = socket.socket()\n",
    "\n",
    "client.connect(('127.0.0.1',8999))"
   ]
  },
  {
   "cell_type": "code",
   "execution_count": 5,
   "metadata": {},
   "outputs": [],
   "source": [
    "binarry = client.recv(1024)"
   ]
  },
  {
   "cell_type": "code",
   "execution_count": 6,
   "metadata": {},
   "outputs": [
    {
     "data": {
      "text/plain": [
       "b'\\x04\\x00\\x01\\x00\\x08\\x01\\x12\\x00\\xc8\\x00\\x08\\x01\\x10\\x02\"\\n\\r\\x00\\x00?C\\x1d\\x00\\x00+C\\x12\\x00\\xc8\\x00\\x08\\x01\\x10\\x02\"\\n\\r\\x00\\x00?C\\x1d\\x00\\x00+C\\x12\\x00\\xca\\x00\\n\\x0e\\x08\\x01\\x12\\n\\r\\x00\\x00?C\\x1d\\x00\\x00+C'"
      ]
     },
     "execution_count": 6,
     "metadata": {},
     "output_type": "execute_result"
    }
   ],
   "source": [
    "binarry"
   ]
  },
  {
   "cell_type": "code",
   "execution_count": 62,
   "metadata": {},
   "outputs": [
    {
     "name": "stdout",
     "output_type": "stream",
     "text": [
      "18 200 b'\\x08\\x01\\x10\\x02\"\\n\\r\\x00\\x00?C\\x1d\\x00\\x00+C'\n"
     ]
    }
   ],
   "source": [
    "length = struct.unpack(\"<H\",binarry[:conf.head_index])[0]\n",
    "mid = struct.unpack(\"<H\",binarry[conf.head_index:conf.id_index])[0]\n",
    "data = binarry[conf.data_index:length + conf.head_index]\n",
    "message = Message(mid , data)\n",
    "message_list.append(message)\n",
    "print(length , mid , data)\n",
    "print(data.decode())"
   ]
  },
  {
   "cell_type": "code",
   "execution_count": 60,
   "metadata": {},
   "outputs": [],
   "source": [
    "binarry = binarry[length + conf.head_index:]"
   ]
  },
  {
   "cell_type": "code",
   "execution_count": 7,
   "metadata": {},
   "outputs": [],
   "source": [
    "import struct\n",
    "conf = type(\"Config\",(),{})\n",
    "conf.head_index = 2\n",
    "conf.id_index = 4\n",
    "conf.data_index = 4\n",
    "class Message():\n",
    "    def __init__(self, mid , data):\n",
    "        self.mid = mid \n",
    "        self.data = data\n",
    "message_list = []"
   ]
  },
  {
   "cell_type": "code",
   "execution_count": 10,
   "metadata": {},
   "outputs": [],
   "source": [
    "def depack(binarry):\n",
    "    while binarry:\n",
    "        length = struct.unpack(\"H\",binarry[:conf.head_index])[0]\n",
    "        mid = struct.unpack(\"H\",binarry[conf.head_index:conf.id_index])[0]\n",
    "        data = binarry[conf.data_index:length + conf.head_index]\n",
    "        message = Message(mid , data)\n",
    "        message_list.append(message)\n",
    "        print(length , mid , data)\n",
    "        print(data.decode())\n",
    "        binarry = binarry[length + conf.head_index:]"
   ]
  },
  {
   "cell_type": "code",
   "execution_count": 11,
   "metadata": {},
   "outputs": [
    {
     "name": "stdout",
     "output_type": "stream",
     "text": [
      "4 1 b'\\x08\\x01'\n",
      "\b\u0001\n",
      "18 200 b'\\x08\\x01\\x10\\x02\"\\n\\r\\x00\\x00?C\\x1d\\x00\\x00+C'\n",
      "\b\u0001\u0010\u0002\"\n",
      "\r",
      "\u0000\u0000?C\u001d",
      "\u0000\u0000+C\n",
      "18 200 b'\\x08\\x01\\x10\\x02\"\\n\\r\\x00\\x00?C\\x1d\\x00\\x00+C'\n",
      "\b\u0001\u0010\u0002\"\n",
      "\r",
      "\u0000\u0000?C\u001d",
      "\u0000\u0000+C\n",
      "18 202 b'\\n\\x0e\\x08\\x01\\x12\\n\\r\\x00\\x00?C\\x1d\\x00\\x00+C'\n",
      "\n",
      "\u000e\b\u0001\u0012\n",
      "\r",
      "\u0000\u0000?C\u001d",
      "\u0000\u0000+C\n"
     ]
    }
   ],
   "source": [
    "depack(binarry)"
   ]
  },
  {
   "cell_type": "code",
   "execution_count": 11,
   "metadata": {},
   "outputs": [
    {
     "data": {
      "text/plain": [
       "2"
      ]
     },
     "execution_count": 11,
     "metadata": {},
     "output_type": "execute_result"
    }
   ],
   "source": [
    "a = a == 1"
   ]
  },
  {
   "cell_type": "code",
   "execution_count": 12,
   "metadata": {},
   "outputs": [],
   "source": [
    "mid = struct.unpack(\"H\",t[2:4])[0]"
   ]
  },
  {
   "cell_type": "code",
   "execution_count": 13,
   "metadata": {},
   "outputs": [
    {
     "data": {
      "text/plain": [
       "0"
      ]
     },
     "execution_count": 13,
     "metadata": {},
     "output_type": "execute_result"
    }
   ],
   "source": [
    "mid"
   ]
  },
  {
   "cell_type": "code",
   "execution_count": 14,
   "metadata": {},
   "outputs": [
    {
     "ename": "error",
     "evalue": "unpack requires a buffer of 2 bytes",
     "output_type": "error",
     "traceback": [
      "\u001b[1;31m---------------------------------------------------------------------------\u001b[0m",
      "\u001b[1;31merror\u001b[0m                                     Traceback (most recent call last)",
      "\u001b[1;32m<ipython-input-14-b6df7596fb62>\u001b[0m in \u001b[0;36m<module>\u001b[1;34m\u001b[0m\n\u001b[1;32m----> 1\u001b[1;33m \u001b[0mmid\u001b[0m \u001b[1;33m=\u001b[0m \u001b[0mstruct\u001b[0m\u001b[1;33m.\u001b[0m\u001b[0munpack\u001b[0m\u001b[1;33m(\u001b[0m\u001b[1;34m\"H\"\u001b[0m\u001b[1;33m,\u001b[0m\u001b[0mt\u001b[0m\u001b[1;33m[\u001b[0m\u001b[1;36m4\u001b[0m\u001b[1;33m:\u001b[0m\u001b[1;33m]\u001b[0m\u001b[1;33m)\u001b[0m\u001b[1;33m[\u001b[0m\u001b[1;36m0\u001b[0m\u001b[1;33m]\u001b[0m\u001b[1;33m\u001b[0m\u001b[1;33m\u001b[0m\u001b[0m\n\u001b[0m",
      "\u001b[1;31merror\u001b[0m: unpack requires a buffer of 2 bytes"
     ]
    }
   ],
   "source": [
    "mid = struct.unpack(\"H\",t[4:])[0]"
   ]
  },
  {
   "cell_type": "code",
   "execution_count": null,
   "metadata": {},
   "outputs": [],
   "source": [
    "import socket\n",
    "client = socket.socket()\n",
    "\n",
    "client.connect(('localhost',9999))\n",
    "\n",
    "while True:\n",
    "    cmd = input(\">>:\").strip()\n",
    "    if len(cmd) == 0:continue\n",
    "    client.send(cmd.encode(\"utf-8\"))\n",
    "    cmd_res_size = client.recv(1024)\n",
    "    print(\"命令结果大小：\",cmd_res_size)\n",
    "    client.send(\"我准备好了\".encode(\"utf-8\"))  #响应服务器端发送请求，为防止粘包的产生\n",
    "    received_size = 0\n",
    "    received_data =b''\n",
    "    while received_size < int(cmd_res_size.decode()):\n",
    "        data = client.recv(1024)\n",
    "        received_size += len(data)\n",
    "        received_data += data\n",
    "    else:\n",
    "        print(\"cmd res receive done...\",received_size)\n",
    "        print(received_data.decode())\n",
    "\n",
    "client.close()"
   ]
  }
 ],
 "metadata": {
  "kernelspec": {
   "display_name": "Python 3",
   "language": "python",
   "name": "python3"
  },
  "language_info": {
   "codemirror_mode": {
    "name": "ipython",
    "version": 3
   },
   "file_extension": ".py",
   "mimetype": "text/x-python",
   "name": "python",
   "nbconvert_exporter": "python",
   "pygments_lexer": "ipython3",
   "version": "3.7.3"
  }
 },
 "nbformat": 4,
 "nbformat_minor": 2
}
