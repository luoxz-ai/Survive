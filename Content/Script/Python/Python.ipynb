{
 "cells": [
  {
   "cell_type": "code",
   "execution_count": null,
   "metadata": {},
   "outputs": [],
   "source": [
    "from utils import *\n",
    "import os\n",
    "output_List = []\n",
    "def parseBPFile(file_dir, file_name):\n",
    "    if \".lua\" in file_name:\n",
    "        file_name = file_name.replace(\".uasset\" , \"\")\n",
    "        output_List.append(\"\\t{0} = {1}/{0}_C\".format(file_name , file_dir ))\n",
    "        pass  \n",
    "def parseFiles(root_dir , rel_dir  , callback = None):\n",
    "    if not callback:\n",
    "        return\n",
    "    for parent,dir_names,file_names in os.walk(root_dir):\n",
    "        rel_parent = parent.replace(rel_dir,\"/Game\")\n",
    "        rel_parent = rel_parent.replace(\"\\\\\",\"/\")\n",
    "        for file_name in file_names:\n",
    "            callback(rel_parent, file_name)\n",
    "def AutoGenBlueprintTypeRefForLua(root_dir):\n",
    "    UPrint(\"excute \", root_dir, \"AutoGenBlueprintTypeRefForLua\")\n",
    "    out_file = root_dir + \"/Script/GamePlay/Gen/BlueprintTypeGen.lua\";\n",
    "    output_List.append(\"BpType = {\")\n",
    "    parse_bp_files = [\"/Blueprints\"]\n",
    "    for bp in parse_bp_files:\n",
    "        parseFiles(root_dir + bp , root_dir, parseBPFile)\n",
    "    output_List.append(\"};\")\n",
    "    with open(out_file, 'wb') as f:\n",
    "        f.write(\"\\n\".join(output_List).encode())"
   ]
  },
  {
   "cell_type": "code",
   "execution_count": 2,
   "metadata": {},
   "outputs": [
    {
     "data": {
      "text/plain": [
       "'E:\\\\ouczbs\\\\Survive\\\\Content\\\\Script\\\\Python'"
      ]
     },
     "execution_count": 2,
     "metadata": {},
     "output_type": "execute_result"
    }
   ],
   "source": [
    "import os \n",
    "os.getcwd()"
   ]
  },
  {
   "cell_type": "code",
   "execution_count": 4,
   "metadata": {},
   "outputs": [],
   "source": [
    "root_dir = \"E:\\\\ouczbs\\\\Survive\\\\Content\\\\Script\""
   ]
  },
  {
   "cell_type": "code",
   "execution_count": null,
   "metadata": {},
   "outputs": [],
   "source": [
    "!python EditorMenuActions.py -f AutoGenPbc -p E:\\\\ouczbs\\\\Survive\\\\Content\\\\"
   ]
  },
  {
   "cell_type": "code",
   "execution_count": 4,
   "metadata": {},
   "outputs": [
    {
     "data": {
      "text/plain": [
       "'E:\\\\ouczbs\\\\Survive\\\\Content\\\\Script\\\\Python'"
      ]
     },
     "execution_count": 4,
     "metadata": {},
     "output_type": "execute_result"
    }
   ],
   "source": [
    "import os \n",
    "os.getcwd()"
   ]
  },
  {
   "cell_type": "code",
   "execution_count": 23,
   "metadata": {},
   "outputs": [],
   "source": [
    "root_dir = \"E:\\ouczbs\\SurviveGo\\mmo\""
   ]
  },
  {
   "cell_type": "code",
   "execution_count": 24,
   "metadata": {},
   "outputs": [],
   "source": [
    "def callback(parent , file_name):\n",
    "    if \".go\" in file_name:\n",
    "        filepath = \"{0}/{1}\".format(parent ,file_name)\n",
    "        content = b\"\"\n",
    "        with open(filepath ,\"rb\") as f:\n",
    "            content = f.read()\n",
    "        with open(filepath ,\"wb\") as f:\n",
    "            content = content.replace(b\"github.com/ouczbs/zinx/mmo/\",b\"github.com/ouczbs/mmo/\")\n",
    "            f.write(content)"
   ]
  },
  {
   "cell_type": "code",
   "execution_count": 25,
   "metadata": {},
   "outputs": [],
   "source": [
    "for parent,dir_names,file_names in os.walk(root_dir):\n",
    "    for file_name in file_names:\n",
    "        callback(parent, file_name)"
   ]
  },
  {
   "cell_type": "code",
   "execution_count": null,
   "metadata": {},
   "outputs": [],
   "source": []
  }
 ],
 "metadata": {
  "kernelspec": {
   "display_name": "Python 3",
   "language": "python",
   "name": "python3"
  },
  "language_info": {
   "codemirror_mode": {
    "name": "ipython",
    "version": 3
   },
   "file_extension": ".py",
   "mimetype": "text/x-python",
   "name": "python",
   "nbconvert_exporter": "python",
   "pygments_lexer": "ipython3",
   "version": "3.7.3"
  }
 },
 "nbformat": 4,
 "nbformat_minor": 2
}
